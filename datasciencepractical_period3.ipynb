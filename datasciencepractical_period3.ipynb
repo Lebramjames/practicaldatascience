{
 "cells": [
  {
   "cell_type": "code",
   "execution_count": 46,
   "metadata": {},
   "outputs": [],
   "source": [
    "import numpy as np\n",
    "import pandas as pd\n",
    "import scipy as sc\n",
    "import math \n",
    "import matplotlib.pyplot as plt\n",
    "from random import random\n",
    "import statsmodels.api as sm\n"
   ]
  },
  {
   "cell_type": "markdown",
   "metadata": {},
   "source": [
    "# Part A: Part A: Winning elections by spending more on campaigns?"
   ]
  },
  {
   "cell_type": "markdown",
   "metadata": {},
   "source": [
    "### Loading Data: (data3a.xls)"
   ]
  },
  {
   "cell_type": "code",
   "execution_count": 5,
   "metadata": {},
   "outputs": [],
   "source": [
    "dataColumns = ['state','district', 'democA', 'voteA', 'expendA', 'expendB', 'prtystrA', 'lexpendA', 'lexpendB', 'shareA']\n",
    "df = pd.read_excel(r'C:\\Users\\bramg\\Documents\\data3a.xls', header=None, names=dataColumns)\n",
    "#df.to_excel(r'C:\\Users\\bramg\\Documents\\rawdata3a.xls')"
   ]
  },
  {
   "cell_type": "markdown",
   "metadata": {},
   "source": [
    "### Descriptive Analysis:\n"
   ]
  },
  {
   "cell_type": "code",
   "execution_count": 15,
   "metadata": {},
   "outputs": [],
   "source": [
    "#plotting voting percentage against spending percentage\n",
    "def scatter(X, y, title, xlabel, ylabel):\n",
    "    plt.scatter(X, y)\n",
    "    plt.title(title)\n",
    "    plt.xlabel(xlabel)\n",
    "    plt.ylabel(ylabel)\n",
    "    plt.grid(alpha=0.3)\n",
    "    plt.show()"
   ]
  },
  {
   "cell_type": "code",
   "execution_count": 50,
   "metadata": {},
   "outputs": [
    {
     "data": {
      "image/png": "[encoded data removed]",
      "text/plain": [
       "<Figure size 432x288 with 1 Axes>"
      ]
     },
     "metadata": {
      "needs_background": "light"
     },
     "output_type": "display_data"
    }
   ],
   "source": [
    "def main():\n",
    "    vY = df.filter(items=['voteA']).values.reshape(1,-1)\n",
    "    vX = df.filter(items=['shareA']).values.reshape(1,-1)\n",
    "    scatter(vX[0], vY[0], \"Voting percentage against expenditure percentage\", \"Voting Share A \", \"Expenditure Share A\")\n",
    "main()"
   ]
  },
  {
   "cell_type": "code",
   "execution_count": 37,
   "metadata": {},
   "outputs": [],
   "source": [
    "#Histogram\n",
    "def histogram(X, y, title, xlabel, ylabel):\n",
    "    plt.hist(X, alpha=0.6, bins=15)\n",
    "    plt.hist(y, alpha=0.6, bins=15)\n",
    "    #plt.title(title)\n",
    "    #plt.xlabel(xlabel)\n",
    "    #plt.ylabel(ylabel)\n",
    "    plt.show()"
   ]
  },
  {
   "cell_type": "code",
   "execution_count": 38,
   "metadata": {},
   "outputs": [
    {
     "data": {
      "image/png": "[encoded data removed]",
      "text/plain": [
       "<Figure size 432x288 with 1 Axes>"
      ]
     },
     "metadata": {
      "needs_background": "light"
     },
     "output_type": "display_data"
    },
    {
     "name": "stdout",
     "output_type": "stream",
     "text": [
      "Descriptive Statistics for expenditure A:\n",
      "count     173.000000\n",
      "mean      305.088497\n",
      "std       306.278015\n",
      "min         0.930000\n",
      "25%        60.050000\n",
      "50%       221.530000\n",
      "75%       450.720000\n",
      "max      1548.190000\n",
      "Name: expendB, dtype: float64\n"
     ]
    }
   ],
   "source": [
    "def main():\n",
    "    vX = df.iloc[:,4].values.reshape(1,-1)\n",
    "    vY = df.iloc[:,5].values.reshape(1,-1)\n",
    "    histogram(vX[0], vY[0], 'Histogram Expenditure A and B', 'Amount Spended', 'Quantity')\n",
    "    \n",
    "    #descriptive statistics\n",
    "    print('Descriptive Statistics for expenditure A:')\n",
    "    print(df.iloc[:,5].describe())\n",
    "main()"
   ]
  },
  {
   "cell_type": "code",
   "execution_count": 52,
   "metadata": {},
   "outputs": [],
   "source": [
    "def correlationData(data): \n",
    "    correlation_df = df.corr()\n",
    "    print(correlation_df) "
   ]
  },
  {
   "cell_type": "code",
   "execution_count": 53,
   "metadata": {},
   "outputs": [
    {
     "name": "stdout",
     "output_type": "stream",
     "text": [
      "          district    democA     voteA   expendA   expendB  prtystrA  \\\n",
      "district  1.000000  0.103145  0.039189  0.063714 -0.079974  0.047763   \n",
      "democA    0.103145  1.000000  0.256944 -0.039453 -0.244604 -0.408579   \n",
      "voteA     0.039189  0.256944  1.000000  0.395147 -0.419265  0.345809   \n",
      "expendA   0.063714 -0.039453  0.395147  1.000000  0.373968  0.239574   \n",
      "expendB  -0.079974 -0.244604 -0.419265  0.373968  1.000000 -0.003157   \n",
      "prtystrA  0.047763 -0.408579  0.345809  0.239574 -0.003157  1.000000   \n",
      "lexpendA  0.023150  0.119290  0.620820  0.773281  0.199934  0.276668   \n",
      "lexpendB -0.095086 -0.239345 -0.647462  0.172919  0.796465 -0.153135   \n",
      "shareA    0.101476  0.274727  0.925282  0.461615 -0.461417  0.283148   \n",
      "\n",
      "          lexpendA  lexpendB    shareA  \n",
      "district  0.023150 -0.095086  0.101476  \n",
      "democA    0.119290 -0.239345  0.274727  \n",
      "voteA     0.620820 -0.647462  0.925282  \n",
      "expendA   0.773281  0.172919  0.461615  \n",
      "expendB   0.199934  0.796465 -0.461417  \n",
      "prtystrA  0.276668 -0.153135  0.283148  \n",
      "lexpendA  1.000000 -0.024778  0.676181  \n",
      "lexpendB -0.024778  1.000000 -0.700465  \n",
      "shareA    0.676181 -0.700465  1.000000  \n"
     ]
    }
   ],
   "source": [
    "def main():\n",
    "    correlationData(df)\n",
    "main()"
   ]
  },
  {
   "cell_type": "markdown",
   "metadata": {},
   "source": [
    "### Simple Linear Regression"
   ]
  },
  {
   "cell_type": "code",
   "execution_count": 42,
   "metadata": {},
   "outputs": [],
   "source": [
    "def multiLinearRegression(X, y, features):\n",
    "    sm.add_constant(X)\n",
    "    model = sm.OLS(y, X)\n",
    "    results = model.fit()\n",
    "    print(results.summary(xname=features))"
   ]
  },
  {
   "cell_type": "code",
   "execution_count": 49,
   "metadata": {},
   "outputs": [
    {
     "name": "stdout",
     "output_type": "stream",
     "text": [
      "                                 OLS Regression Results                                \n",
      "=======================================================================================\n",
      "Dep. Variable:                  voteA   R-squared (uncentered):                   0.910\n",
      "Model:                            OLS   Adj. R-squared (uncentered):              0.909\n",
      "Method:                 Least Squares   F-statistic:                              1733.\n",
      "Date:                Wed, 12 Jan 2022   Prob (F-statistic):                    9.54e-92\n",
      "Time:                        00:11:42   Log-Likelihood:                         -724.97\n",
      "No. Observations:                 173   AIC:                                      1452.\n",
      "Df Residuals:                     172   BIC:                                      1455.\n",
      "Df Model:                           1                                                  \n",
      "Covariance Type:            nonrobust                                                  \n",
      "==============================================================================\n",
      "                 coef    std err          t      P>|t|      [0.025      0.975]\n",
      "------------------------------------------------------------------------------\n",
      "ShareA         0.8316      0.020     41.635      0.000       0.792       0.871\n",
      "==============================================================================\n",
      "Omnibus:                        7.601   Durbin-Watson:                   0.885\n",
      "Prob(Omnibus):                  0.022   Jarque-Bera (JB):                3.701\n",
      "Skew:                           0.061   Prob(JB):                        0.157\n",
      "Kurtosis:                       2.294   Cond. No.                         1.00\n",
      "==============================================================================\n",
      "\n",
      "Notes:\n",
      "[1] R² is computed without centering (uncentered) since the model does not contain a constant.\n",
      "[2] Standard Errors assume that the covariance matrix of the errors is correctly specified.\n"
     ]
    }
   ],
   "source": [
    "def main():\n",
    "    vY = df.filter(items=['voteA'])\n",
    "    vX = df.filter(items=['shareA'])\n",
    "\n",
    "    features = ['ShareA']\n",
    "\n",
    "\n",
    "    multiLinearRegression(vX, vY, features)\n",
    "\n",
    "main()"
   ]
  }
 ],
 "metadata": {
  "interpreter": {
   "hash": "b9a8a6ad4f5229acfc2458c70d811fada32d6fda3f3c12eb1cea5bca68370e93"
  },
  "kernelspec": {
   "display_name": "Python 3.10.1 64-bit",
   "language": "python",
   "name": "python3"
  },
  "language_info": {
   "codemirror_mode": {
    "name": "ipython",
    "version": 3
   },
   "file_extension": ".py",
   "mimetype": "text/x-python",
   "name": "python",
   "nbconvert_exporter": "python",
   "pygments_lexer": "ipython3",
   "version": "3.10.1"
  },
  "orig_nbformat": 4
 },
 "nbformat": 4,
 "nbformat_minor": 2
}
